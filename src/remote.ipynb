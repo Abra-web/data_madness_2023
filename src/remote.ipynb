{
 "cells": [
  {
   "cell_type": "markdown",
   "source": [
    "# Objective 2: How does the pandemic impact the industry?\n",
    "Run this file after DA-23 where the data can be fetched first in the folders"
   ],
   "metadata": {
    "collapsed": false
   }
  },
  {
   "cell_type": "markdown",
   "source": [
    "## Data Acquisition\n",
    "Although we considered 2016, 2017, 2018, 2019 and 2022 data which questioned about the remote work mode,\n",
    "1. 2018 was omitted in the later stage, since it is not asking about frequency of remote work but priority.\n",
    "2. 2017 was omitted to make the years jump every two years, which is more feasible in analysis.\n",
    "\n",
    "And thus, 2016, 2019 and 2022 were the final sets we took."
   ],
   "metadata": {
    "collapsed": false
   }
  },
  {
   "cell_type": "code",
   "execution_count": 1,
   "outputs": [],
   "source": [
    "# imports\n",
    "from os.path import abspath, join, dirname\n",
    "from os import makedirs\n",
    "import pandas as pd\n",
    "from matplotlib import pyplot as plt\n"
   ],
   "metadata": {
    "collapsed": false
   }
  },
  {
   "cell_type": "code",
   "execution_count": 2,
   "outputs": [],
   "source": [
    "data_folder = join(dirname(abspath('')), 'data')\n",
    "makedirs(data_folder, exist_ok=True)\n",
    "\n",
    "data_2016 = pd.read_csv(join(data_folder, '2016 Stack Overflow Survey Responses.csv'))\n",
    "# remote? - remote\n",
    "# Instances:\n",
    "# missing values\n",
    "# Never\n",
    "\n",
    "# I rarely work remotely\n",
    "# Part-time\n",
    "\n",
    "# Full-time remote\n",
    "\n",
    "\n",
    "# data_2017 = pd.read_csv(join(data_folder, 'survey_results_public2017.csv'))\n",
    "# remote? - HomeRemote\n",
    "# Instances:\n",
    "# NA\n",
    "# Never\n",
    "\n",
    "# A few days each month\n",
    "# Less than half the time, but at least one day each week\n",
    "# More than half, but not all, the time\n",
    "# It's complicated\n",
    "\n",
    "# All or almost all the time (I'm full-time remote)\n",
    "\n",
    "\n",
    "# data_2018 = pd.read_csv(join(data_folder, 'survey_results_public2018.csv'))\n",
    "# AssessJob7 - \"Imagine that you are assessing a potential job opportunity. Please rank the following aspects of the\n",
    "# job opportunity in order of importance (by dragging the choices up and down), where 1 is the most important and 10\n",
    "# is the least important. The opportunity to work from home/remotely\n",
    "# Instances:\n",
    "# 1 to 10\n",
    "\n",
    "data_2019 = pd.read_csv(join(data_folder, 'survey_results_public2019.csv'))\n",
    "# WorkRemote - How often do you work remotely?\n",
    "# Instances:\n",
    "# NA\n",
    "# Less than once per month / Never\n",
    "\n",
    "# A few days each month\n",
    "# Less than half the time, but at least one day each week\n",
    "# About half the time\n",
    "# More than half, but not all, the time\n",
    "# It's complicated\n",
    "\n",
    "# All or almost all the time (I'm full-time remote)\n",
    "\n",
    "\n",
    "# WorkLoc - Where would you prefer to work?\n",
    "\n",
    "\n",
    "data_2022 = pd.read_csv(join(data_folder, 'survey_results_public2022.csv'))\n",
    "# remote? - RemoteWork\n",
    "# Instances:\n",
    "# NA\n",
    "# Full in-person\n",
    "# Hybrid (some remote, some in-person)\n",
    "# Fully remote\n",
    "\n"
   ],
   "metadata": {
    "collapsed": false
   }
  },
  {
   "cell_type": "code",
   "execution_count": 3,
   "outputs": [],
   "source": [
    "# column names for each year\n",
    "column_names = {\n",
    "    '2016': 'remote',\n",
    "    # '2017': 'HomeRemote',\n",
    "    '2019': 'WorkRemote',\n",
    "    '2022': 'RemoteWork'\n",
    "}"
   ],
   "metadata": {
    "collapsed": false
   }
  },
  {
   "cell_type": "code",
   "execution_count": 4,
   "outputs": [
    {
     "name": "stdout",
     "output_type": "stream",
     "text": [
      "Year 2016:\n",
      "(56030,)\n",
      "------------------\n",
      "Year 2019:\n",
      "(88883,)\n",
      "------------------\n",
      "Year 2022:\n",
      "(73268,)\n",
      "------------------\n"
     ]
    }
   ],
   "source": [
    "# data size\n",
    "def print_remote_metrics_size():\n",
    "    for year,column_name in column_names.items():\n",
    "        print(f\"Year {year}:\")\n",
    "        print(globals()[f\"data_{year}\"][column_name].shape)\n",
    "        print(\"------------------\")\n",
    "\n",
    "\n",
    "print_remote_metrics_size()"
   ],
   "metadata": {
    "collapsed": false
   }
  },
  {
   "cell_type": "markdown",
   "source": [
    "### Clean up\n",
    "We chose to drop the missing values instead of fill them with `Not Applicable` label because this does not affect the normalised values we compute later on."
   ],
   "metadata": {
    "collapsed": false
   }
  },
  {
   "cell_type": "code",
   "execution_count": 5,
   "outputs": [],
   "source": [
    "# fill NAs\n",
    "# data_2016['remote'] = data_2016['remote'].fillna('Not Applicable')\n",
    "# # data_2017['HomeRemote'] = data_2017['HomeRemote'].fillna('Not Applicable')\n",
    "# data_2019['WorkRemote'] = data_2019['WorkRemote'].fillna('Not Applicable')\n",
    "# data_2022['RemoteWork'] = data_2022['RemoteWork'].fillna('Not Applicable')"
   ],
   "metadata": {
    "collapsed": false
   }
  },
  {
   "cell_type": "code",
   "execution_count": 6,
   "outputs": [
    {
     "name": "stdout",
     "output_type": "stream",
     "text": [
      "Year 2016:\n",
      "------------------\n",
      "Year 2019:\n",
      "------------------\n",
      "Year 2022:\n",
      "------------------\n",
      "Year 2016:\n",
      "(40118,)\n",
      "------------------\n",
      "Year 2019:\n",
      "(70284,)\n",
      "------------------\n",
      "Year 2022:\n",
      "(58958,)\n",
      "------------------\n"
     ]
    }
   ],
   "source": [
    "# drop NAs\n",
    "for year, column_name in column_names.items():\n",
    "    print(f\"Year {year}:\")\n",
    "    globals()[f\"data_{year}\"] = globals()[f\"data_{year}\"].dropna(subset=[column_name])\n",
    "    print(\"------------------\")\n",
    "\n",
    "print_remote_metrics_size()"
   ],
   "metadata": {
    "collapsed": false
   }
  },
  {
   "cell_type": "code",
   "execution_count": 7,
   "outputs": [],
   "source": [
    "def print_remote_metrics(da, col):\n",
    "    print(da[col].value_counts())\n",
    "    print(da[col].value_counts() / len(da[col]))\n",
    "    print('NA counts:')\n",
    "    print(da[col].isna().sum())"
   ],
   "metadata": {
    "collapsed": false
   }
  },
  {
   "cell_type": "code",
   "execution_count": 8,
   "outputs": [
    {
     "name": "stdout",
     "output_type": "stream",
     "text": [
      "Year 2016:\n",
      "I rarely work remotely    19212\n",
      "Never                      8946\n",
      "Part-time remote           7088\n",
      "Full-time remote           4872\n",
      "Name: remote, dtype: int64\n",
      "I rarely work remotely    0.478887\n",
      "Never                     0.222992\n",
      "Part-time remote          0.176679\n",
      "Full-time remote          0.121442\n",
      "Name: remote, dtype: float64\n",
      "NA counts:\n",
      "0\n",
      "------------------\n",
      "Year 2019:\n",
      "Less than once per month / Never                           30220\n",
      "A few days each month                                      17242\n",
      "All or almost all the time (I'm full-time remote)           8465\n",
      "Less than half the time, but at least one day each week     6320\n",
      "It's complicated                                            3675\n",
      "More than half, but not all, the time                       2376\n",
      "About half the time                                         1986\n",
      "Name: WorkRemote, dtype: int64\n",
      "Less than once per month / Never                           0.429970\n",
      "A few days each month                                      0.245319\n",
      "All or almost all the time (I'm full-time remote)          0.120440\n",
      "Less than half the time, but at least one day each week    0.089921\n",
      "It's complicated                                           0.052288\n",
      "More than half, but not all, the time                      0.033806\n",
      "About half the time                                        0.028257\n",
      "Name: WorkRemote, dtype: float64\n",
      "NA counts:\n",
      "0\n",
      "------------------\n",
      "Year 2022:\n",
      "Fully remote                            25341\n",
      "Hybrid (some remote, some in-person)    25021\n",
      "Full in-person                           8596\n",
      "Name: RemoteWork, dtype: int64\n",
      "Fully remote                            0.429814\n",
      "Hybrid (some remote, some in-person)    0.424387\n",
      "Full in-person                          0.145799\n",
      "Name: RemoteWork, dtype: float64\n",
      "NA counts:\n",
      "0\n",
      "------------------\n"
     ]
    }
   ],
   "source": [
    "# check the percentages of instances after clean-up\n",
    "for year, column_name in column_names.items():\n",
    "    print(f\"Year {year}:\")\n",
    "    print_remote_metrics(globals()[f\"data_{year}\"], column_name)\n",
    "    print(\"------------------\")"
   ],
   "metadata": {
    "collapsed": false
   }
  },
  {
   "cell_type": "markdown",
   "source": [
    "Although missing values are handled, the inconsistencies of the values are clearly seen above and the mappings later on will resolve this problem."
   ],
   "metadata": {
    "collapsed": false
   }
  },
  {
   "cell_type": "markdown",
   "source": [
    "## EDA\n",
    "### Mappings\n",
    "Map the different categorical data throughout the years to the same naming convention in 2022.\n",
    "\n",
    "Namely, they are Full in-person, Hybrid and Fully remote."
   ],
   "metadata": {
    "collapsed": false
   }
  },
  {
   "cell_type": "code",
   "execution_count": 11,
   "outputs": [],
   "source": [
    "remote_mappings = {\n",
    "    '2016': {\n",
    "        'Never': 'Full in-person',\n",
    "        'I rarely work remotely': 'Hybrid',\n",
    "        'Part-time remote': 'Hybrid',\n",
    "        'Full-time remote': 'Fully remote'\n",
    "    },\n",
    "    # '2017': {\n",
    "    #     'Never': 'Full in-person',\n",
    "    #     'A few days each month': 'Hybrid',\n",
    "    #     'Less than half the time, but at least one day each week': 'Hybrid',\n",
    "    #     'About half the time': 'Hybrid',\n",
    "    #     'More than half, but not all, the time': 'Hybrid',\n",
    "    #     'It\\'s complicated': 'Hybrid',\n",
    "    #     'All or almost all the time (I\\'m full-time remote)': 'Fully remote'\n",
    "    # },\n",
    "    '2019': {\n",
    "        'Less than once per month / Never': 'Full in-person',\n",
    "        'A few days each month': 'Hybrid',\n",
    "        'Less than half the time, but at least one day each week': 'Hybrid',\n",
    "        'About half the time': 'Hybrid',\n",
    "        'More than half, but not all, the time': 'Hybrid',\n",
    "        'It\\'s complicated': 'Hybrid',\n",
    "        'All or almost all the time (I\\'m full-time remote)': 'Fully remote'\n",
    "    }\n",
    "    ,\n",
    "    '2022': {\n",
    "        'Full in-person': 'Full in-person',\n",
    "        'Hybrid (some remote, some in-person)': 'Hybrid',\n",
    "        'Fully remote': 'Fully remote'\n",
    "    }\n",
    "}\n",
    "\n",
    "for year, mappings in remote_mappings.items():\n",
    "    if year == '2016':\n",
    "        column_name = 'remote'\n",
    "    # elif year == '2017':\n",
    "    #     column_name = 'HomeRemote'\n",
    "    elif year == '2019':\n",
    "        column_name = 'WorkRemote'\n",
    "    else:\n",
    "        column_name = 'RemoteWork'\n",
    "    data = globals()[f\"data_{year}\"]\n",
    "    data[column_name] = data[column_name].replace(mappings)\n"
   ],
   "metadata": {
    "collapsed": false
   }
  },
  {
   "cell_type": "markdown",
   "source": [
    "## Visualisation and Analysis\n",
    "Since we are interested in the change of work mode (remotely) during years which does not have strong relations, the bar chart is one good option to perform the visualisation."
   ],
   "metadata": {
    "collapsed": false
   }
  },
  {
   "cell_type": "code",
   "execution_count": 12,
   "outputs": [
    {
     "name": "stdout",
     "output_type": "stream",
     "text": [
      "Year 2016:\n",
      "Hybrid            26300\n",
      "Full in-person     8946\n",
      "Fully remote       4872\n",
      "Name: remote, dtype: int64\n",
      "Hybrid            0.655566\n",
      "Full in-person    0.222992\n",
      "Fully remote      0.121442\n",
      "Name: remote, dtype: float64\n",
      "NA counts:\n",
      "0\n",
      "------------------\n",
      "Year 2019:\n",
      "Hybrid            31599\n",
      "Full in-person    30220\n",
      "Fully remote       8465\n",
      "Name: WorkRemote, dtype: int64\n",
      "Hybrid            0.44959\n",
      "Full in-person    0.42997\n",
      "Fully remote      0.12044\n",
      "Name: WorkRemote, dtype: float64\n",
      "NA counts:\n",
      "0\n",
      "------------------\n",
      "Year 2022:\n",
      "Fully remote      25341\n",
      "Hybrid            25021\n",
      "Full in-person     8596\n",
      "Name: RemoteWork, dtype: int64\n",
      "Fully remote      0.429814\n",
      "Hybrid            0.424387\n",
      "Full in-person    0.145799\n",
      "Name: RemoteWork, dtype: float64\n",
      "NA counts:\n",
      "0\n",
      "------------------\n"
     ]
    }
   ],
   "source": [
    "# check the percentages after mappings\n",
    "for year, column_name in column_names.items():\n",
    "    print(f\"Year {year}:\")\n",
    "    print_remote_metrics(globals()[f\"data_{year}\"], column_name)\n",
    "    print(\"------------------\")"
   ],
   "metadata": {
    "collapsed": false
   }
  },
  {
   "cell_type": "code",
   "execution_count": 13,
   "outputs": [],
   "source": [
    "# remotes_labels = ['Not Applicable','Full in-person', 'Hybrid','Fully remote']\n",
    "remotes_labels = ['Full in-person', 'Hybrid','Fully remote']\n"
   ],
   "metadata": {
    "collapsed": false
   }
  },
  {
   "cell_type": "code",
   "execution_count": 14,
   "outputs": [],
   "source": [
    "def compute_remotes_pct_over_years(pct,lbl,cols):\n",
    "    # Compute the percentage of respondents for each year\n",
    "    for yr, col in cols.items():\n",
    "        da = globals()[f\"data_{yr}\"]\n",
    "        pct.append(da[col].value_counts(normalize=True)[lbl])\n",
    "    return pct"
   ],
   "metadata": {
    "collapsed": false
   }
  },
  {
   "cell_type": "code",
   "execution_count": 15,
   "outputs": [],
   "source": [
    "# Plot the percentage of respondents who work remotely over time\n",
    "def plot_remotes_pct_over_years(pct,lbl):\n",
    "    # plt.bar(['2016', '2017', '2019', '2022'], pct)\n",
    "    plt.bar(['2016', '2019', '2022'], pct)\n",
    "    plt.title('Percentage of respondents who work ' + lbl+' over time')\n",
    "    plt.xlabel('Year')\n",
    "    plt.ylabel('Percentage')\n",
    "    plt.ylim([0, 1])\n",
    "    plt.show()"
   ],
   "metadata": {
    "collapsed": false
   }
  },
  {
   "cell_type": "code",
   "execution_count": 16,
   "outputs": [
    {
     "data": {
      "text/plain": "<Figure size 640x480 with 1 Axes>",
      "image/png": "[encoded data removed]"
     },
     "metadata": {},
     "output_type": "display_data"
    },
    {
     "data": {
      "text/plain": "<Figure size 640x480 with 1 Axes>",
      "image/png": "[encoded data removed]"
     },
     "metadata": {},
     "output_type": "display_data"
    },
    {
     "data": {
      "text/plain": "<Figure size 640x480 with 1 Axes>",
      "image/png": "[encoded data removed]"
     },
     "metadata": {},
     "output_type": "display_data"
    }
   ],
   "source": [
    "# plots the changes of each work mode\n",
    "# not_applicable_pct = []\n",
    "full_in_person_pct = []\n",
    "hybrid_pct = []\n",
    "fully_remote_pct = []\n",
    "\n",
    "remotes_pct = [\n",
    "    # not_applicable_pct,\n",
    "    full_in_person_pct,\n",
    "    hybrid_pct,\n",
    "    fully_remote_pct\n",
    "]\n",
    "\n",
    "for label,percentage in zip(remotes_labels,remotes_pct):\n",
    "    percentage = compute_remotes_pct_over_years(percentage,label,column_names)\n",
    "    plot_remotes_pct_over_years(percentage,label)\n",
    "\n"
   ],
   "metadata": {
    "collapsed": false
   }
  },
  {
   "cell_type": "markdown",
   "source": [
    "It can be found that there's a slight decrease in hybrid work mode over these years. However, there's a huge increase in remote work, especially between 2019 and 2022.\n",
    "\n",
    "Interestingly, work in-person became tremendously popular in 2019 in this industry and then witnessed a huge decline.\n",
    "\n",
    "To conclude, these plots generally show how pandemic affects people's work mode in IT industry."
   ],
   "metadata": {
    "collapsed": false
   }
  },
  {
   "cell_type": "code",
   "execution_count": null,
   "outputs": [],
   "source": [],
   "metadata": {
    "collapsed": false
   }
  }
 ],
 "metadata": {
  "kernelspec": {
   "display_name": "Python 3",
   "language": "python",
   "name": "python3"
  },
  "language_info": {
   "codemirror_mode": {
    "name": "ipython",
    "version": 2
   },
   "file_extension": ".py",
   "mimetype": "text/x-python",
   "name": "python",
   "nbconvert_exporter": "python",
   "pygments_lexer": "ipython2",
   "version": "2.7.6"
  }
 },
 "nbformat": 4,
 "nbformat_minor": 0
}
