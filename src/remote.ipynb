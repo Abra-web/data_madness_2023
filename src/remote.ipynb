{
 "cells": [
  {
   "cell_type": "code",
   "execution_count": 6,
   "metadata": {
    "collapsed": true
   },
   "outputs": [],
   "source": [
    "# imports\n",
    "from os.path import abspath, join, dirname, normpath, basename\n",
    "from os import makedirs, rename, rmdir\n",
    "import requests, zipfile, io\n",
    "import shutil\n",
    "import pandas as pd\n",
    "from matplotlib import pyplot as plt\n",
    "import seaborn as sns\n",
    "import numpy as np"
   ]
  },
  {
   "cell_type": "code",
   "execution_count": 3,
   "outputs": [],
   "source": [
    "# helper method, not used yet\n",
    "# create plots of selected column `col` from the data `da`\n",
    "def plots_col(da, col):\n",
    "    fig, axs = plt.subplots(nrows=2)\n",
    "\n",
    "    sns.histplot(\n",
    "        da[col],\n",
    "        kde=True,\n",
    "        ax=axs[0]\n",
    "    )\n",
    "\n",
    "    sns.stripplot(\n",
    "        da[col],\n",
    "        orient='h',\n",
    "        jitter=0.4,\n",
    "        size=3,\n",
    "        ax=axs[1],\n",
    "        alpha=0.3\n",
    "    )\n",
    "    sns.boxplot(\n",
    "        da[col],\n",
    "        orient='h',\n",
    "        width=0.4,\n",
    "        ax=axs[1],\n",
    "        showfliers=False,\n",
    "    )\n",
    "\n",
    "    # Align axes\n",
    "    spacer = np.max(da[col]) * 0.05\n",
    "    xmin = np.min(da[col]) - spacer\n",
    "    xmax = np.max(da[col]) + spacer\n",
    "    axs[0].set_xlim((xmin, xmax))\n",
    "    axs[1].set_xlim((xmin, xmax))\n",
    "\n",
    "    # Remove some axis text\n",
    "    axs[0].xaxis.set_visible(False)\n",
    "    axs[0].yaxis.set_visible(False)\n",
    "    axs[1].yaxis.set_visible(False)\n",
    "\n",
    "    # Put the two plots together\n",
    "    plt.subplots_adjust(hspace=0)\n",
    "\n",
    "    # Adjust boxplot fill to be white\n",
    "    axs[1].set_facecolor('white')\n",
    "\n",
    "\n",
    "# Setup data\n",
    "data_folder = join(dirname(abspath('')), 'data')\n",
    "makedirs(data_folder, exist_ok=True)"
   ],
   "metadata": {
    "collapsed": false
   }
  },
  {
   "cell_type": "code",
   "execution_count": 48,
   "outputs": [
    {
     "name": "stderr",
     "output_type": "stream",
     "text": [
      "C:\\Users\\YJ\\AppData\\Local\\Temp\\ipykernel_13032\\257653563.py:71: DtypeWarning: Columns (8,12,13,14,15,16,50,51,52,53,55,56,57,58,59,60,61,62,63,64,65,66,67,68,69,70,71,72,73,74,75,76,77,78,79,80,81,82,83,84,85,93,94,95,96,97,98,99,100,101,102,103,104,105,106,107,108,109,110,111,112,113,114,115,116,117,118,119,120,121,122,123,124,125,126,127,128) have mixed types. Specify dtype option on import or set low_memory=False.\n",
      "  data_2018 = pd.read_csv(join(data_folder, 'survey_results_public2018.csv'))\n"
     ]
    }
   ],
   "source": [
    "# Read all data\n",
    "# Considered 2016, 2017, 2018, 2019 and 2022 data about the remote\n",
    "# 2018 was omitted in the later stage, since it is not asking about frequency of remote work but priority\n",
    "\n",
    "# data_2014 = pd.read_csv(join(data_folder, '2014 Stack Overflow Survey Responses.csv'))\n",
    "# # Remote work - Do you work remotely?\n",
    "# # Remote work satisfaction - Do you enjoy working remotely?\n",
    "#\n",
    "# data_2015 = pd.read_csv(join(data_folder, '2015 Stack Overflow Developer Survey Responses.csv'))\n",
    "# # Remote work? - Remote Status\n",
    "#\n",
    "data_2016 = pd.read_csv(join(data_folder, '2016 Stack Overflow Survey Responses.csv'))\n",
    "# # remote? - remote\n",
    "# # missing values\n",
    "# # Never\n",
    "\n",
    "# # I rarely work remotely\n",
    "# # Part-time\n",
    "\n",
    "# # Full-time remote\n",
    "\n",
    "\n",
    "data_2017 = pd.read_csv(join(data_folder, 'survey_results_public2017.csv'))\n",
    "# remote? - HomeRemote\n",
    "# NA\n",
    "# Never\n",
    "\n",
    "# A few days each month\n",
    "# Less than half the time, but at least one day each week\n",
    "# More than half, but not all, the time\n",
    "# It's complicated\n",
    "\n",
    "# All or almost all the time (I'm full-time remote)\n",
    "\n",
    "\n",
    "data_2018 = pd.read_csv(join(data_folder, 'survey_results_public2018.csv'))\n",
    "# AssessJob7 - \"Imagine that you are assessing a potential job opportunity. Please rank the following aspects of the\n",
    "# job opportunity in order of importance (by dragging the choices up and down), where 1 is the most important and 10\n",
    "# is the least important. The opportunity to work from home/remotely\"\n",
    "# 1 to 10\n",
    "\n",
    "data_2019 = pd.read_csv(join(data_folder, 'survey_results_public2019.csv'))\n",
    "# WorkRemote - How often do you work remotely?\n",
    "# NA\n",
    "# Less than once per month / Never\n",
    "\n",
    "# A few days each month\n",
    "# Less than half the time, but at least one day each week\n",
    "# About half the time\n",
    "# More than half, but not all, the time\n",
    "# It's complicated\n",
    "\n",
    "# All or almost all the time (I'm full-time remote)\n",
    "\n",
    "\n",
    "# WorkLoc - Where would you prefer to work?\n",
    "\n",
    "\n",
    "data_2022 = pd.read_csv(join(data_folder, 'survey_results_public2022.csv'))\n",
    "# remote? - RemoteWork\n",
    "# NA\n",
    "# Full in-person\n",
    "# Hybrid (some remote, some in-person)\n",
    "# Fully remote\n",
    "\n"
   ],
   "metadata": {
    "collapsed": false
   }
  },
  {
   "cell_type": "code",
   "execution_count": 28,
   "outputs": [],
   "source": [
    "# remote_2016 = data_2016['remote']\n",
    "# remote_2017 = data_2017['HomeRemote']\n",
    "# remote_2018 = data_2018['AssessJob7']\n",
    "# remote_2019 = data_2019['WorkRemote']\n",
    "# remote_2022 = data_2022['RemoteWork']"
   ],
   "metadata": {
    "collapsed": false
   }
  },
  {
   "cell_type": "code",
   "execution_count": 0,
   "outputs": [],
   "source": [
    "def print_remote_metrics(data, column_name):\n",
    "    print(data[column_name].value_counts())\n",
    "    print(data[column_name].value_counts() / len(data[column_name]))\n",
    "    print(data[column_name].isna().sum())\n",
    "\n",
    "\n",
    "# column names for each year\n",
    "column_names = {\n",
    "    '2016': 'remote',\n",
    "    '2017': 'HomeRemote',\n",
    "    '2019': 'WorkRemote',\n",
    "    '2022': 'RemoteWork'\n",
    "}"
   ],
   "metadata": {
    "collapsed": false
   }
  },
  {
   "cell_type": "code",
   "execution_count": 57,
   "outputs": [
    {
     "name": "stdout",
     "output_type": "stream",
     "text": [
      "Year 2016:\n",
      "------------------\n",
      "Year 2017:\n",
      "------------------\n",
      "Year 2019:\n",
      "------------------\n",
      "Year 2022:\n",
      "------------------\n"
     ]
    }
   ],
   "source": [
    "# drop NAs doesn't work\n",
    "for year, column_name in column_names.items():\n",
    "    print(f\"Year {year}:\")\n",
    "    globals()[f\"data_{year}\"].dropna(subset=[column_name])\n",
    "    print(\"------------------\")"
   ],
   "metadata": {
    "collapsed": false
   }
  },
  {
   "cell_type": "code",
   "execution_count": 58,
   "outputs": [
    {
     "name": "stdout",
     "output_type": "stream",
     "text": [
      "Year 2016:\n",
      "Hybrid            26300\n",
      "Full in-person     8946\n",
      "Fully remote       4872\n",
      "Name: remote, dtype: int64\n",
      "Hybrid            0.469391\n",
      "Full in-person    0.159664\n",
      "Fully remote      0.086953\n",
      "Name: remote, dtype: float64\n",
      "15912\n",
      "------------------\n",
      "Year 2017:\n",
      "Hybrid            25128\n",
      "Full in-person    13975\n",
      "Fully remote       4905\n",
      "Name: HomeRemote, dtype: int64\n",
      "Hybrid            0.488948\n",
      "Full in-person    0.271929\n",
      "Fully remote      0.095443\n",
      "Name: HomeRemote, dtype: float64\n",
      "7384\n",
      "------------------\n",
      "Year 2019:\n",
      "Hybrid            31599\n",
      "Full in-person    30220\n",
      "Fully remote       8465\n",
      "Name: WorkRemote, dtype: int64\n",
      "Hybrid            0.355512\n",
      "Full in-person    0.339998\n",
      "Fully remote      0.095238\n",
      "Name: WorkRemote, dtype: float64\n",
      "18599\n",
      "------------------\n",
      "Year 2022:\n",
      "Fully remote      25341\n",
      "Hybrid            25021\n",
      "Full in-person     8596\n",
      "Name: RemoteWork, dtype: int64\n",
      "Fully remote      0.345867\n",
      "Hybrid            0.341500\n",
      "Full in-person    0.117323\n",
      "Name: RemoteWork, dtype: float64\n",
      "14310\n",
      "------------------\n"
     ]
    }
   ],
   "source": [
    "for year, column_name in column_names.items():\n",
    "    print(f\"Year {year}:\")\n",
    "    print_remote_metrics(globals()[f\"data_{year}\"], column_name)\n",
    "    print(\"------------------\")"
   ],
   "metadata": {
    "collapsed": false
   }
  },
  {
   "cell_type": "code",
   "execution_count": 53,
   "outputs": [],
   "source": [
    "# mapping different categorical data throughout the years to the same naming convention in 2022\n",
    "# namely, Full in-person, Hybrid and Fully remote\n",
    "remote_mappings = {\n",
    "    '2016': {\n",
    "        'Never': 'Full in-person',\n",
    "        'I rarely work remotely': 'Hybrid',\n",
    "        'Part-time remote': 'Hybrid',\n",
    "        'Full-time remote': 'Fully remote'\n",
    "    },\n",
    "    '2017': {\n",
    "        'Never': 'Full in-person',\n",
    "        'A few days each month': 'Hybrid',\n",
    "        'Less than half the time, but at least one day each week': 'Hybrid',\n",
    "        'About half the time': 'Hybrid',\n",
    "        'More than half, but not all, the time': 'Hybrid',\n",
    "        'It\\'s complicated': 'Hybrid',\n",
    "        'All or almost all the time (I\\'m full-time remote)': 'Fully remote'\n",
    "    },\n",
    "    '2019': {\n",
    "        'Less than once per month / Never': 'Full in-person',\n",
    "        'A few days each month': 'Hybrid',\n",
    "        'Less than half the time, but at least one day each week': 'Hybrid',\n",
    "        'About half the time': 'Hybrid',\n",
    "        'More than half, but not all, the time': 'Hybrid',\n",
    "        'It\\'s complicated': 'Hybrid',\n",
    "        'All or almost all the time (I\\'m full-time remote)': 'Fully remote'\n",
    "    }\n",
    "    ,\n",
    "    '2022': {\n",
    "        'Full in-person': 'Full in-person',\n",
    "        'Hybrid (some remote, some in-person)': 'Hybrid',\n",
    "        'Fully remote': 'Fully remote'\n",
    "    }\n",
    "}\n",
    "for year, mappings in remote_mappings.items():\n",
    "    if year == '2016':\n",
    "        column_name = 'remote'\n",
    "    elif year == '2017':\n",
    "        column_name = 'HomeRemote'\n",
    "    elif year == '2019':\n",
    "        column_name = 'WorkRemote'\n",
    "    else:\n",
    "        column_name = 'RemoteWork'\n",
    "    data = globals()[f\"data_{year}\"]\n",
    "    data[column_name] = data[column_name].replace(mappings)\n"
   ],
   "metadata": {
    "collapsed": false
   }
  },
  {
   "cell_type": "code",
   "execution_count": null,
   "outputs": [],
   "source": [],
   "metadata": {
    "collapsed": false
   }
  }
 ],
 "metadata": {
  "kernelspec": {
   "display_name": "Python 3",
   "language": "python",
   "name": "python3"
  },
  "language_info": {
   "codemirror_mode": {
    "name": "ipython",
    "version": 2
   },
   "file_extension": ".py",
   "mimetype": "text/x-python",
   "name": "python",
   "nbconvert_exporter": "python",
   "pygments_lexer": "ipython2",
   "version": "2.7.6"
  }
 },
 "nbformat": 4,
 "nbformat_minor": 0
}
