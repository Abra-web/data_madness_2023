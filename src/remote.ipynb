{
 "cells": [
  {
   "cell_type": "code",
   "execution_count": null,
   "metadata": {
    "collapsed": true
   },
   "outputs": [],
   "source": [
    "# imports\n",
    "from os.path import abspath, join, dirname\n",
    "from os import makedirs\n",
    "import pandas as pd\n",
    "from matplotlib import pyplot as plt\n"
   ]
  },
  {
   "cell_type": "markdown",
   "source": [
    "Run this file after DA-23 where the data can be fetched first in the folders"
   ],
   "metadata": {
    "collapsed": false
   }
  },
  {
   "cell_type": "code",
   "execution_count": 57,
   "outputs": [],
   "source": [
    "# Read all data\n",
    "# Considered 2016, 2017, 2018, 2019 and 2022 data about the remote\n",
    "# 2018 was omitted in the later stage, since it is not asking about frequency of remote work but priority\n",
    "# 2017 was omitted to make the year jump every two years\n",
    "# 2016, 2019 and 2022 was the final sets\n",
    "data_folder = join(dirname(abspath('')), 'data')\n",
    "makedirs(data_folder, exist_ok=True)\n",
    "# data_2014 = pd.read_csv(join(data_folder, '2014 Stack Overflow Survey Responses.csv'))\n",
    "# # Remote work - Do you work remotely?\n",
    "# # Remote work satisfaction - Do you enjoy working remotely?\n",
    "#\n",
    "# data_2015 = pd.read_csv(join(data_folder, '2015 Stack Overflow Developer Survey Responses.csv'))\n",
    "# # Remote work? - Remote Status\n",
    "#\n",
    "data_2016 = pd.read_csv(join(data_folder, '2016 Stack Overflow Survey Responses.csv'))\n",
    "# remote? - remote\n",
    "# Instances:\n",
    "# missing values\n",
    "# Never\n",
    "\n",
    "# I rarely work remotely\n",
    "# Part-time\n",
    "\n",
    "# Full-time remote\n",
    "\n",
    "\n",
    "# data_2017 = pd.read_csv(join(data_folder, 'survey_results_public2017.csv'))\n",
    "# remote? - HomeRemote\n",
    "# Instances:\n",
    "# NA\n",
    "# Never\n",
    "\n",
    "# A few days each month\n",
    "# Less than half the time, but at least one day each week\n",
    "# More than half, but not all, the time\n",
    "# It's complicated\n",
    "\n",
    "# All or almost all the time (I'm full-time remote)\n",
    "\n",
    "\n",
    "# data_2018 = pd.read_csv(join(data_folder, 'survey_results_public2018.csv'))\n",
    "# AssessJob7 - \"Imagine that you are assessing a potential job opportunity. Please rank the following aspects of the\n",
    "# job opportunity in order of importance (by dragging the choices up and down), where 1 is the most important and 10\n",
    "# is the least important. The opportunity to work from home/remotely\n",
    "# Instances:\n",
    "# 1 to 10\n",
    "\n",
    "data_2019 = pd.read_csv(join(data_folder, 'survey_results_public2019.csv'))\n",
    "# WorkRemote - How often do you work remotely?\n",
    "# Instances:\n",
    "# NA\n",
    "# Less than once per month / Never\n",
    "\n",
    "# A few days each month\n",
    "# Less than half the time, but at least one day each week\n",
    "# About half the time\n",
    "# More than half, but not all, the time\n",
    "# It's complicated\n",
    "\n",
    "# All or almost all the time (I'm full-time remote)\n",
    "\n",
    "\n",
    "# WorkLoc - Where would you prefer to work?\n",
    "\n",
    "\n",
    "data_2022 = pd.read_csv(join(data_folder, 'survey_results_public2022.csv'))\n",
    "# remote? - RemoteWork\n",
    "# Instances:\n",
    "# NA\n",
    "# Full in-person\n",
    "# Hybrid (some remote, some in-person)\n",
    "# Fully remote\n",
    "\n"
   ],
   "metadata": {
    "collapsed": false
   }
  },
  {
   "cell_type": "code",
   "execution_count": 58,
   "outputs": [],
   "source": [
    "def print_remote_metrics(da, col):\n",
    "    print(da[col].value_counts())\n",
    "    print(da[col].value_counts() / len(da[col]))\n",
    "    print('NA counts:')\n",
    "    print(da[col].isna().sum())\n",
    "\n",
    "\n",
    "# column names for each year\n",
    "column_names = {\n",
    "    '2016': 'remote',\n",
    "    # '2017': 'HomeRemote',\n",
    "    '2019': 'WorkRemote',\n",
    "    '2022': 'RemoteWork'\n",
    "}"
   ],
   "metadata": {
    "collapsed": false
   }
  },
  {
   "cell_type": "code",
   "execution_count": 72,
   "outputs": [
    {
     "name": "stdout",
     "output_type": "stream",
     "text": [
      "Year 2016:\n",
      "(40118,)\n",
      "------------------\n",
      "Year 2019:\n",
      "(70284,)\n",
      "------------------\n",
      "Year 2022:\n",
      "(58958,)\n",
      "------------------\n"
     ]
    }
   ],
   "source": [
    "# data size\n",
    "def print_remote_metrics_size():\n",
    "    for year,column_name in column_names.items():\n",
    "        print(f\"Year {year}:\")\n",
    "        print(globals()[f\"data_{year}\"][column_name].shape)\n",
    "        print(\"------------------\")\n",
    "\n",
    "\n",
    "print_remote_metrics_size()"
   ],
   "metadata": {
    "collapsed": false
   }
  },
  {
   "cell_type": "code",
   "execution_count": 73,
   "outputs": [],
   "source": [
    "# fill NAs\n",
    "# data_2016['remote'] = data_2016['remote'].fillna('Not Applicable')\n",
    "# # data_2017['HomeRemote'] = data_2017['HomeRemote'].fillna('Not Applicable')\n",
    "# data_2019['WorkRemote'] = data_2019['WorkRemote'].fillna('Not Applicable')\n",
    "# data_2022['RemoteWork'] = data_2022['RemoteWork'].fillna('Not Applicable')"
   ],
   "metadata": {
    "collapsed": false
   }
  },
  {
   "cell_type": "code",
   "execution_count": 74,
   "outputs": [
    {
     "name": "stdout",
     "output_type": "stream",
     "text": [
      "Year 2016:\n",
      "------------------\n",
      "Year 2019:\n",
      "------------------\n",
      "Year 2022:\n",
      "------------------\n",
      "Year 2016:\n",
      "(40118,)\n",
      "------------------\n",
      "Year 2019:\n",
      "(70284,)\n",
      "------------------\n",
      "Year 2022:\n",
      "(58958,)\n",
      "------------------\n"
     ]
    }
   ],
   "source": [
    "# drop NAs\n",
    "for year, column_name in column_names.items():\n",
    "    print(f\"Year {year}:\")\n",
    "    globals()[f\"data_{year}\"] = globals()[f\"data_{year}\"].dropna(subset=[column_name])\n",
    "    print(\"------------------\")\n",
    "\n",
    "print_remote_metrics_size()"
   ],
   "metadata": {
    "collapsed": false
   }
  },
  {
   "cell_type": "code",
   "execution_count": 75,
   "outputs": [
    {
     "name": "stdout",
     "output_type": "stream",
     "text": [
      "Year 2016:\n",
      "I rarely work remotely    19212\n",
      "Never                      8946\n",
      "Part-time remote           7088\n",
      "Full-time remote           4872\n",
      "Name: remote, dtype: int64\n",
      "I rarely work remotely    0.478887\n",
      "Never                     0.222992\n",
      "Part-time remote          0.176679\n",
      "Full-time remote          0.121442\n",
      "Name: remote, dtype: float64\n",
      "NA counts:\n",
      "0\n",
      "------------------\n",
      "Year 2019:\n",
      "Less than once per month / Never                           30220\n",
      "A few days each month                                      17242\n",
      "All or almost all the time (I'm full-time remote)           8465\n",
      "Less than half the time, but at least one day each week     6320\n",
      "It's complicated                                            3675\n",
      "More than half, but not all, the time                       2376\n",
      "About half the time                                         1986\n",
      "Name: WorkRemote, dtype: int64\n",
      "Less than once per month / Never                           0.429970\n",
      "A few days each month                                      0.245319\n",
      "All or almost all the time (I'm full-time remote)          0.120440\n",
      "Less than half the time, but at least one day each week    0.089921\n",
      "It's complicated                                           0.052288\n",
      "More than half, but not all, the time                      0.033806\n",
      "About half the time                                        0.028257\n",
      "Name: WorkRemote, dtype: float64\n",
      "NA counts:\n",
      "0\n",
      "------------------\n",
      "Year 2022:\n",
      "Fully remote                            25341\n",
      "Hybrid (some remote, some in-person)    25021\n",
      "Full in-person                           8596\n",
      "Name: RemoteWork, dtype: int64\n",
      "Fully remote                            0.429814\n",
      "Hybrid (some remote, some in-person)    0.424387\n",
      "Full in-person                          0.145799\n",
      "Name: RemoteWork, dtype: float64\n",
      "NA counts:\n",
      "0\n",
      "------------------\n"
     ]
    }
   ],
   "source": [
    "# check the percentages of instances after clean-up\n",
    "for year, column_name in column_names.items():\n",
    "    print(f\"Year {year}:\")\n",
    "    print_remote_metrics(globals()[f\"data_{year}\"], column_name)\n",
    "    print(\"------------------\")"
   ],
   "metadata": {
    "collapsed": false
   }
  },
  {
   "cell_type": "code",
   "execution_count": 51,
   "outputs": [],
   "source": [
    "# mapping different categorical data throughout the years to the same naming convention in 2022\n",
    "# namely, Full in-person, Hybrid and Fully remote\n",
    "remote_mappings = {\n",
    "    '2016': {\n",
    "        'Never': 'Full in-person',\n",
    "        'I rarely work remotely': 'Hybrid',\n",
    "        'Part-time remote': 'Hybrid',\n",
    "        'Full-time remote': 'Fully remote'\n",
    "    },\n",
    "    # '2017': {\n",
    "    #     'Never': 'Full in-person',\n",
    "    #     'A few days each month': 'Hybrid',\n",
    "    #     'Less than half the time, but at least one day each week': 'Hybrid',\n",
    "    #     'About half the time': 'Hybrid',\n",
    "    #     'More than half, but not all, the time': 'Hybrid',\n",
    "    #     'It\\'s complicated': 'Hybrid',\n",
    "    #     'All or almost all the time (I\\'m full-time remote)': 'Fully remote'\n",
    "    # },\n",
    "    '2019': {\n",
    "        'Less than once per month / Never': 'Full in-person',\n",
    "        'A few days each month': 'Hybrid',\n",
    "        'Less than half the time, but at least one day each week': 'Hybrid',\n",
    "        'About half the time': 'Hybrid',\n",
    "        'More than half, but not all, the time': 'Hybrid',\n",
    "        'It\\'s complicated': 'Hybrid',\n",
    "        'All or almost all the time (I\\'m full-time remote)': 'Fully remote'\n",
    "    }\n",
    "    ,\n",
    "    '2022': {\n",
    "        'Full in-person': 'Full in-person',\n",
    "        'Hybrid (some remote, some in-person)': 'Hybrid',\n",
    "        'Fully remote': 'Fully remote'\n",
    "    }\n",
    "}\n",
    "\n",
    "for year, mappings in remote_mappings.items():\n",
    "    if year == '2016':\n",
    "        column_name = 'remote'\n",
    "    # elif year == '2017':\n",
    "    #     column_name = 'HomeRemote'\n",
    "    elif year == '2019':\n",
    "        column_name = 'WorkRemote'\n",
    "    else:\n",
    "        column_name = 'RemoteWork'\n",
    "    data = globals()[f\"data_{year}\"]\n",
    "    data[column_name] = data[column_name].replace(mappings)\n"
   ],
   "metadata": {
    "collapsed": false
   }
  },
  {
   "cell_type": "code",
   "execution_count": 76,
   "outputs": [
    {
     "name": "stdout",
     "output_type": "stream",
     "text": [
      "Year 2016:\n",
      "I rarely work remotely    19212\n",
      "Never                      8946\n",
      "Part-time remote           7088\n",
      "Full-time remote           4872\n",
      "Name: remote, dtype: int64\n",
      "I rarely work remotely    0.478887\n",
      "Never                     0.222992\n",
      "Part-time remote          0.176679\n",
      "Full-time remote          0.121442\n",
      "Name: remote, dtype: float64\n",
      "NA counts:\n",
      "0\n",
      "------------------\n",
      "Year 2019:\n",
      "Less than once per month / Never                           30220\n",
      "A few days each month                                      17242\n",
      "All or almost all the time (I'm full-time remote)           8465\n",
      "Less than half the time, but at least one day each week     6320\n",
      "It's complicated                                            3675\n",
      "More than half, but not all, the time                       2376\n",
      "About half the time                                         1986\n",
      "Name: WorkRemote, dtype: int64\n",
      "Less than once per month / Never                           0.429970\n",
      "A few days each month                                      0.245319\n",
      "All or almost all the time (I'm full-time remote)          0.120440\n",
      "Less than half the time, but at least one day each week    0.089921\n",
      "It's complicated                                           0.052288\n",
      "More than half, but not all, the time                      0.033806\n",
      "About half the time                                        0.028257\n",
      "Name: WorkRemote, dtype: float64\n",
      "NA counts:\n",
      "0\n",
      "------------------\n",
      "Year 2022:\n",
      "Fully remote                            25341\n",
      "Hybrid (some remote, some in-person)    25021\n",
      "Full in-person                           8596\n",
      "Name: RemoteWork, dtype: int64\n",
      "Fully remote                            0.429814\n",
      "Hybrid (some remote, some in-person)    0.424387\n",
      "Full in-person                          0.145799\n",
      "Name: RemoteWork, dtype: float64\n",
      "NA counts:\n",
      "0\n",
      "------------------\n"
     ]
    }
   ],
   "source": [
    "# check the percentages after mappings\n",
    "for year, column_name in column_names.items():\n",
    "    print(f\"Year {year}:\")\n",
    "    print_remote_metrics(globals()[f\"data_{year}\"], column_name)\n",
    "    print(\"------------------\")"
   ],
   "metadata": {
    "collapsed": false
   }
  },
  {
   "cell_type": "code",
   "execution_count": 53,
   "outputs": [],
   "source": [
    "# remotes_labels = ['Not Applicable','Full in-person', 'Hybrid','Fully remote']\n",
    "remotes_labels = ['Full in-person', 'Hybrid','Fully remote']\n"
   ],
   "metadata": {
    "collapsed": false
   }
  },
  {
   "cell_type": "code",
   "execution_count": 54,
   "outputs": [],
   "source": [
    "def compute_remotes_pct_over_years(pct,lbl,cols):\n",
    "    # Compute the percentage of respondents for each year\n",
    "    for yr, col in cols.items():\n",
    "        da = globals()[f\"data_{yr}\"]\n",
    "        pct.append(da[col].value_counts(normalize=True)[lbl])\n",
    "    return pct"
   ],
   "metadata": {
    "collapsed": false
   }
  },
  {
   "cell_type": "code",
   "execution_count": 55,
   "outputs": [],
   "source": [
    "# Plot the percentage of respondents who work remotely over time\n",
    "def plot_remotes_pct_over_years(pct,lbl):\n",
    "    # plt.bar(['2016', '2017', '2019', '2022'], pct)\n",
    "    plt.bar(['2016', '2019', '2022'], pct)\n",
    "    plt.title('Percentage of respondents who work ' + lbl+' over time')\n",
    "    plt.xlabel('Year')\n",
    "    plt.ylabel('Percentage')\n",
    "    plt.ylim([0, 1])\n",
    "    plt.show()"
   ],
   "metadata": {
    "collapsed": false
   }
  },
  {
   "cell_type": "code",
   "execution_count": 77,
   "outputs": [
    {
     "ename": "KeyError",
     "evalue": "'Full in-person'",
     "output_type": "error",
     "traceback": [
      "\u001B[1;31m---------------------------------------------------------------------------\u001B[0m",
      "\u001B[1;31mKeyError\u001B[0m                                  Traceback (most recent call last)",
      "File \u001B[1;32mD:\\isay\\data_madness_2023\\lib\\site-packages\\pandas\\core\\indexes\\base.py:3802\u001B[0m, in \u001B[0;36mIndex.get_loc\u001B[1;34m(self, key, method, tolerance)\u001B[0m\n\u001B[0;32m   3801\u001B[0m \u001B[38;5;28;01mtry\u001B[39;00m:\n\u001B[1;32m-> 3802\u001B[0m     \u001B[38;5;28;01mreturn\u001B[39;00m \u001B[38;5;28;43mself\u001B[39;49m\u001B[38;5;241;43m.\u001B[39;49m\u001B[43m_engine\u001B[49m\u001B[38;5;241;43m.\u001B[39;49m\u001B[43mget_loc\u001B[49m\u001B[43m(\u001B[49m\u001B[43mcasted_key\u001B[49m\u001B[43m)\u001B[49m\n\u001B[0;32m   3803\u001B[0m \u001B[38;5;28;01mexcept\u001B[39;00m \u001B[38;5;167;01mKeyError\u001B[39;00m \u001B[38;5;28;01mas\u001B[39;00m err:\n",
      "File \u001B[1;32mD:\\isay\\data_madness_2023\\lib\\site-packages\\pandas\\_libs\\index.pyx:138\u001B[0m, in \u001B[0;36mpandas._libs.index.IndexEngine.get_loc\u001B[1;34m()\u001B[0m\n",
      "File \u001B[1;32mD:\\isay\\data_madness_2023\\lib\\site-packages\\pandas\\_libs\\index.pyx:165\u001B[0m, in \u001B[0;36mpandas._libs.index.IndexEngine.get_loc\u001B[1;34m()\u001B[0m\n",
      "File \u001B[1;32mpandas\\_libs\\hashtable_class_helper.pxi:5745\u001B[0m, in \u001B[0;36mpandas._libs.hashtable.PyObjectHashTable.get_item\u001B[1;34m()\u001B[0m\n",
      "File \u001B[1;32mpandas\\_libs\\hashtable_class_helper.pxi:5753\u001B[0m, in \u001B[0;36mpandas._libs.hashtable.PyObjectHashTable.get_item\u001B[1;34m()\u001B[0m\n",
      "\u001B[1;31mKeyError\u001B[0m: 'Full in-person'",
      "\nThe above exception was the direct cause of the following exception:\n",
      "\u001B[1;31mKeyError\u001B[0m                                  Traceback (most recent call last)",
      "Cell \u001B[1;32mIn[77], line 14\u001B[0m\n\u001B[0;32m      6\u001B[0m remotes_pct \u001B[38;5;241m=\u001B[39m [\n\u001B[0;32m      7\u001B[0m     \u001B[38;5;66;03m# not_applicable_pct,\u001B[39;00m\n\u001B[0;32m      8\u001B[0m     full_in_person_pct,\n\u001B[0;32m      9\u001B[0m     hybrid_pct,\n\u001B[0;32m     10\u001B[0m     fully_remote_pct\n\u001B[0;32m     11\u001B[0m ]\n\u001B[0;32m     13\u001B[0m \u001B[38;5;28;01mfor\u001B[39;00m label,percentage \u001B[38;5;129;01min\u001B[39;00m \u001B[38;5;28mzip\u001B[39m(remotes_labels,remotes_pct):\n\u001B[1;32m---> 14\u001B[0m     percentage \u001B[38;5;241m=\u001B[39m \u001B[43mcompute_remotes_pct_over_years\u001B[49m\u001B[43m(\u001B[49m\u001B[43mpercentage\u001B[49m\u001B[43m,\u001B[49m\u001B[43mlabel\u001B[49m\u001B[43m,\u001B[49m\u001B[43mcolumn_names\u001B[49m\u001B[43m)\u001B[49m\n\u001B[0;32m     15\u001B[0m     plot_remotes_pct_over_years(percentage,label)\n",
      "Cell \u001B[1;32mIn[54], line 5\u001B[0m, in \u001B[0;36mcompute_remotes_pct_over_years\u001B[1;34m(pct, lbl, cols)\u001B[0m\n\u001B[0;32m      3\u001B[0m \u001B[38;5;28;01mfor\u001B[39;00m yr, col \u001B[38;5;129;01min\u001B[39;00m cols\u001B[38;5;241m.\u001B[39mitems():\n\u001B[0;32m      4\u001B[0m     da \u001B[38;5;241m=\u001B[39m \u001B[38;5;28mglobals\u001B[39m()[\u001B[38;5;124mf\u001B[39m\u001B[38;5;124m\"\u001B[39m\u001B[38;5;124mdata_\u001B[39m\u001B[38;5;132;01m{\u001B[39;00myr\u001B[38;5;132;01m}\u001B[39;00m\u001B[38;5;124m\"\u001B[39m]\n\u001B[1;32m----> 5\u001B[0m     pct\u001B[38;5;241m.\u001B[39mappend(\u001B[43mda\u001B[49m\u001B[43m[\u001B[49m\u001B[43mcol\u001B[49m\u001B[43m]\u001B[49m\u001B[38;5;241;43m.\u001B[39;49m\u001B[43mvalue_counts\u001B[49m\u001B[43m(\u001B[49m\u001B[43mnormalize\u001B[49m\u001B[38;5;241;43m=\u001B[39;49m\u001B[38;5;28;43;01mTrue\u001B[39;49;00m\u001B[43m)\u001B[49m\u001B[43m[\u001B[49m\u001B[43mlbl\u001B[49m\u001B[43m]\u001B[49m)\n\u001B[0;32m      6\u001B[0m \u001B[38;5;28;01mreturn\u001B[39;00m pct\n",
      "File \u001B[1;32mD:\\isay\\data_madness_2023\\lib\\site-packages\\pandas\\core\\series.py:981\u001B[0m, in \u001B[0;36mSeries.__getitem__\u001B[1;34m(self, key)\u001B[0m\n\u001B[0;32m    978\u001B[0m     \u001B[38;5;28;01mreturn\u001B[39;00m \u001B[38;5;28mself\u001B[39m\u001B[38;5;241m.\u001B[39m_values[key]\n\u001B[0;32m    980\u001B[0m \u001B[38;5;28;01melif\u001B[39;00m key_is_scalar:\n\u001B[1;32m--> 981\u001B[0m     \u001B[38;5;28;01mreturn\u001B[39;00m \u001B[38;5;28;43mself\u001B[39;49m\u001B[38;5;241;43m.\u001B[39;49m\u001B[43m_get_value\u001B[49m\u001B[43m(\u001B[49m\u001B[43mkey\u001B[49m\u001B[43m)\u001B[49m\n\u001B[0;32m    983\u001B[0m \u001B[38;5;28;01mif\u001B[39;00m is_hashable(key):\n\u001B[0;32m    984\u001B[0m     \u001B[38;5;66;03m# Otherwise index.get_value will raise InvalidIndexError\u001B[39;00m\n\u001B[0;32m    985\u001B[0m     \u001B[38;5;28;01mtry\u001B[39;00m:\n\u001B[0;32m    986\u001B[0m         \u001B[38;5;66;03m# For labels that don't resolve as scalars like tuples and frozensets\u001B[39;00m\n",
      "File \u001B[1;32mD:\\isay\\data_madness_2023\\lib\\site-packages\\pandas\\core\\series.py:1089\u001B[0m, in \u001B[0;36mSeries._get_value\u001B[1;34m(self, label, takeable)\u001B[0m\n\u001B[0;32m   1086\u001B[0m     \u001B[38;5;28;01mreturn\u001B[39;00m \u001B[38;5;28mself\u001B[39m\u001B[38;5;241m.\u001B[39m_values[label]\n\u001B[0;32m   1088\u001B[0m \u001B[38;5;66;03m# Similar to Index.get_value, but we do not fall back to positional\u001B[39;00m\n\u001B[1;32m-> 1089\u001B[0m loc \u001B[38;5;241m=\u001B[39m \u001B[38;5;28;43mself\u001B[39;49m\u001B[38;5;241;43m.\u001B[39;49m\u001B[43mindex\u001B[49m\u001B[38;5;241;43m.\u001B[39;49m\u001B[43mget_loc\u001B[49m\u001B[43m(\u001B[49m\u001B[43mlabel\u001B[49m\u001B[43m)\u001B[49m\n\u001B[0;32m   1090\u001B[0m \u001B[38;5;28;01mreturn\u001B[39;00m \u001B[38;5;28mself\u001B[39m\u001B[38;5;241m.\u001B[39mindex\u001B[38;5;241m.\u001B[39m_get_values_for_loc(\u001B[38;5;28mself\u001B[39m, loc, label)\n",
      "File \u001B[1;32mD:\\isay\\data_madness_2023\\lib\\site-packages\\pandas\\core\\indexes\\base.py:3804\u001B[0m, in \u001B[0;36mIndex.get_loc\u001B[1;34m(self, key, method, tolerance)\u001B[0m\n\u001B[0;32m   3802\u001B[0m     \u001B[38;5;28;01mreturn\u001B[39;00m \u001B[38;5;28mself\u001B[39m\u001B[38;5;241m.\u001B[39m_engine\u001B[38;5;241m.\u001B[39mget_loc(casted_key)\n\u001B[0;32m   3803\u001B[0m \u001B[38;5;28;01mexcept\u001B[39;00m \u001B[38;5;167;01mKeyError\u001B[39;00m \u001B[38;5;28;01mas\u001B[39;00m err:\n\u001B[1;32m-> 3804\u001B[0m     \u001B[38;5;28;01mraise\u001B[39;00m \u001B[38;5;167;01mKeyError\u001B[39;00m(key) \u001B[38;5;28;01mfrom\u001B[39;00m \u001B[38;5;21;01merr\u001B[39;00m\n\u001B[0;32m   3805\u001B[0m \u001B[38;5;28;01mexcept\u001B[39;00m \u001B[38;5;167;01mTypeError\u001B[39;00m:\n\u001B[0;32m   3806\u001B[0m     \u001B[38;5;66;03m# If we have a listlike key, _check_indexing_error will raise\u001B[39;00m\n\u001B[0;32m   3807\u001B[0m     \u001B[38;5;66;03m#  InvalidIndexError. Otherwise we fall through and re-raise\u001B[39;00m\n\u001B[0;32m   3808\u001B[0m     \u001B[38;5;66;03m#  the TypeError.\u001B[39;00m\n\u001B[0;32m   3809\u001B[0m     \u001B[38;5;28mself\u001B[39m\u001B[38;5;241m.\u001B[39m_check_indexing_error(key)\n",
      "\u001B[1;31mKeyError\u001B[0m: 'Full in-person'"
     ]
    }
   ],
   "source": [
    "# plots the changes of each work mode\n",
    "# not_applicable_pct = []\n",
    "full_in_person_pct = []\n",
    "hybrid_pct = []\n",
    "fully_remote_pct = []\n",
    "\n",
    "remotes_pct = [\n",
    "    # not_applicable_pct,\n",
    "    full_in_person_pct,\n",
    "    hybrid_pct,\n",
    "    fully_remote_pct\n",
    "]\n",
    "\n",
    "for label,percentage in zip(remotes_labels,remotes_pct):\n",
    "    percentage = compute_remotes_pct_over_years(percentage,label,column_names)\n",
    "    plot_remotes_pct_over_years(percentage,label)\n",
    "\n"
   ],
   "metadata": {
    "collapsed": false
   }
  },
  {
   "cell_type": "markdown",
   "source": [
    "It can be found that there's a slight decrease in hybrid work mode over these years. However, there's a huge increase in remote work, especially between 2019 and 2022.\n",
    "\n",
    "Interestingly, work in-person became tremendously popular in 2019 in this industry and then witnessed a huge decline.\n",
    "\n",
    "To conclude, these plots generally show how pandemic affects people's work mode in IT industry."
   ],
   "metadata": {
    "collapsed": false
   }
  },
  {
   "cell_type": "code",
   "execution_count": null,
   "outputs": [],
   "source": [],
   "metadata": {
    "collapsed": false
   }
  }
 ],
 "metadata": {
  "kernelspec": {
   "display_name": "Python 3",
   "language": "python",
   "name": "python3"
  },
  "language_info": {
   "codemirror_mode": {
    "name": "ipython",
    "version": 2
   },
   "file_extension": ".py",
   "mimetype": "text/x-python",
   "name": "python",
   "nbconvert_exporter": "python",
   "pygments_lexer": "ipython2",
   "version": "2.7.6"
  }
 },
 "nbformat": 4,
 "nbformat_minor": 0
}
