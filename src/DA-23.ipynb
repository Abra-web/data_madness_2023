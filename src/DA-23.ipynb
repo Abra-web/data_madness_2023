{
 "cells": [
  {
   "cell_type": "code",
   "execution_count": 5,
   "metadata": {
    "collapsed": true,
    "pycharm": {
     "name": "#%%\n"
    }
   },
   "outputs": [],
   "source": [
    "#imports\n",
    "from os.path import abspath,join,dirname,normpath,basename\n",
    "from os import makedirs,rename,rmdir\n",
    "import requests,zipfile,io\n",
    "import shutil"
   ]
  },
  {
   "cell_type": "code",
   "execution_count": 4,
   "outputs": [],
   "source": [
    "#Setup data\n",
    "data_folder=join(dirname(abspath('')),'data')\n",
    "makedirs(data_folder,exist_ok=True)"
   ],
   "metadata": {
    "collapsed": false,
    "pycharm": {
     "name": "#%%\n"
    }
   }
  },
  {
   "cell_type": "code",
   "execution_count": 6,
   "outputs": [],
   "source": [
    "years = ['2011','2012','2013','2014','2015','2016','2017','2018','2019','2020','2021','2022']\n",
    "base_link = \"https://info.stackoverflowsolutions.com/rs/719-EMH-566/images/stack-overflow-developer-survey-YEAR.zip\"\n",
    "for year in years:\n",
    "    link = base_link.replace('YEAR',year)\n",
    "    download = requests.get(link)\n",
    "    z = zipfile.ZipFile(io.BytesIO(download.content))\n",
    "    all_members = z.filelist\n",
    "    for member in all_members:\n",
    "        name = member.filename\n",
    "        if '.csv' in name and 'MACOS' not in name:\n",
    "            print(f\"Extracting {name}\")\n",
    "            entire_path = z.extract(member,path=data_folder)\n",
    "            print(\"done\")\n",
    "            path = basename(normpath(entire_path))\n",
    "            if year not in path:\n",
    "                rename(entire_path,entire_path.replace('.csv',f'{year}.csv'))\n"
   ],
   "metadata": {
    "collapsed": false,
    "pycharm": {
     "name": "#%%\n"
    }
   }
  },
  {
   "cell_type": "code",
   "execution_count": null,
   "outputs": [],
   "source": [
    "#Fix one broken path\n",
    "folder_path = join(data_folder,'2016 Stack Overflow Survey Results')\n",
    "fix_path = join(data_folder,'2016 Stack Overflow Survey Responses.csv')\n",
    "broken_path = join(folder_path,'2016 Stack Overflow Survey Responses.csv')\n",
    "shutil.move(broken_path,fix_path)\n",
    "rmdir(folder_path)"
   ],
   "metadata": {
    "collapsed": false,
    "pycharm": {
     "name": "#%%\n"
    }
   }
  }
 ],
 "metadata": {
  "kernelspec": {
   "display_name": "Python 3",
   "language": "python",
   "name": "python3"
  },
  "language_info": {
   "codemirror_mode": {
    "name": "ipython",
    "version": 2
   },
   "file_extension": ".py",
   "mimetype": "text/x-python",
   "name": "python",
   "nbconvert_exporter": "python",
   "pygments_lexer": "ipython2",
   "version": "2.7.6"
  }
 },
 "nbformat": 4,
 "nbformat_minor": 0
}